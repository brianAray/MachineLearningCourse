{
 "cells": [
  {
   "cell_type": "markdown",
   "id": "8e067b76-5b0c-47ac-96b2-5e5903c1cad9",
   "metadata": {},
   "source": [
    "# Python, NumPy and Vectorization"
   ]
  },
  {
   "cell_type": "code",
   "execution_count": null,
   "id": "2f45d084-e5b8-4467-b312-9b0c02f2abdc",
   "metadata": {},
   "outputs": [],
   "source": []
  }
 ],
 "metadata": {
  "kernelspec": {
   "display_name": "Python 3 (ipykernel)",
   "language": "python",
   "name": "python3"
  },
  "language_info": {
   "codemirror_mode": {
    "name": "ipython",
    "version": 3
   },
   "file_extension": ".py",
   "mimetype": "text/x-python",
   "name": "python",
   "nbconvert_exporter": "python",
   "pygments_lexer": "ipython3",
   "version": "3.9.12"
  }
 },
 "nbformat": 4,
 "nbformat_minor": 5
}
